{
  "cells": [
    {
      "cell_type": "code",
      "execution_count": 1,
      "id": "cordless-gnome",
      "metadata": {
        "id": "cordless-gnome"
      },
      "outputs": [],
      "source": [
        "# !pip install gensim\n",
        "# !pip install python-Levenshtein"
      ]
    },
    {
      "cell_type": "code",
      "source": [
        "!pip install resampy\n",
        "!pip install gensim\n",
        "!pip install python-Levenshtein\n"
      ],
      "metadata": {
        "colab": {
          "base_uri": "https://localhost:8080/"
        },
        "id": "c8CY_zlozcm1",
        "outputId": "03c646da-761c-494e-fa74-02a84e383b73"
      },
      "id": "c8CY_zlozcm1",
      "execution_count": 2,
      "outputs": [
        {
          "output_type": "stream",
          "name": "stdout",
          "text": [
            "Requirement already satisfied: resampy in /usr/local/lib/python3.12/dist-packages (0.4.3)\n",
            "Requirement already satisfied: numpy>=1.17 in /usr/local/lib/python3.12/dist-packages (from resampy) (1.26.4)\n",
            "Requirement already satisfied: numba>=0.53 in /usr/local/lib/python3.12/dist-packages (from resampy) (0.60.0)\n",
            "Requirement already satisfied: llvmlite<0.44,>=0.43.0dev0 in /usr/local/lib/python3.12/dist-packages (from numba>=0.53->resampy) (0.43.0)\n",
            "Requirement already satisfied: gensim in /usr/local/lib/python3.12/dist-packages (4.3.3)\n",
            "Requirement already satisfied: numpy<2.0,>=1.18.5 in /usr/local/lib/python3.12/dist-packages (from gensim) (1.26.4)\n",
            "Requirement already satisfied: scipy<1.14.0,>=1.7.0 in /usr/local/lib/python3.12/dist-packages (from gensim) (1.13.1)\n",
            "Requirement already satisfied: smart-open>=1.8.1 in /usr/local/lib/python3.12/dist-packages (from gensim) (7.3.0.post1)\n",
            "Requirement already satisfied: wrapt in /usr/local/lib/python3.12/dist-packages (from smart-open>=1.8.1->gensim) (1.17.3)\n",
            "Collecting python-Levenshtein\n",
            "  Using cached python_levenshtein-0.27.1-py3-none-any.whl.metadata (3.7 kB)\n",
            "Collecting Levenshtein==0.27.1 (from python-Levenshtein)\n",
            "  Using cached levenshtein-0.27.1-cp312-cp312-manylinux_2_17_x86_64.manylinux2014_x86_64.whl.metadata (3.6 kB)\n",
            "Collecting rapidfuzz<4.0.0,>=3.9.0 (from Levenshtein==0.27.1->python-Levenshtein)\n",
            "  Using cached rapidfuzz-3.14.1-cp312-cp312-manylinux_2_27_x86_64.manylinux_2_28_x86_64.whl.metadata (12 kB)\n",
            "Using cached python_levenshtein-0.27.1-py3-none-any.whl (9.4 kB)\n",
            "Using cached levenshtein-0.27.1-cp312-cp312-manylinux_2_17_x86_64.manylinux2014_x86_64.whl (159 kB)\n",
            "Using cached rapidfuzz-3.14.1-cp312-cp312-manylinux_2_27_x86_64.manylinux_2_28_x86_64.whl (3.2 MB)\n",
            "Installing collected packages: rapidfuzz, Levenshtein, python-Levenshtein\n",
            "Successfully installed Levenshtein-0.27.1 python-Levenshtein-0.27.1 rapidfuzz-3.14.1\n"
          ]
        }
      ]
    },
    {
      "cell_type": "code",
      "execution_count": 3,
      "id": "conceptual-transcription",
      "metadata": {
        "id": "conceptual-transcription"
      },
      "outputs": [],
      "source": [
        "import gensim\n",
        "import pandas as pd"
      ]
    },
    {
      "cell_type": "markdown",
      "id": "still-saver",
      "metadata": {
        "id": "still-saver"
      },
      "source": [
        "### Reading and Exploring the Dataset\n",
        "The dataset we are using here is a subset of Amazon reviews from the Sports & Outdoors category. The data is stored as a JSON file and can be read using pandas.\n",
        "\n",
        "Link to the Dataset: http://snap.stanford.edu/data/amazon/productGraph/categoryFiles/reviews_Sports_and_Outdoors_5.json.gz"
      ]
    },
    {
      "cell_type": "code",
      "execution_count": 5,
      "id": "residential-people",
      "metadata": {
        "id": "residential-people"
      },
      "outputs": [],
      "source": [
        "df = pd.read_json('/content/reviews_Sports_and_Outdoors_5.json.gz', lines=True)"
      ]
    },
    {
      "cell_type": "code",
      "execution_count": 6,
      "id": "parliamentary-relations",
      "metadata": {
        "colab": {
          "base_uri": "https://localhost:8080/"
        },
        "id": "parliamentary-relations",
        "outputId": "bac8b7a6-a920-4e51-8c6e-193ca7574b4d"
      },
      "outputs": [
        {
          "output_type": "execute_result",
          "data": {
            "text/plain": [
              "(296337, 9)"
            ]
          },
          "metadata": {},
          "execution_count": 6
        }
      ],
      "source": [
        "df.shape"
      ]
    },
    {
      "cell_type": "markdown",
      "id": "sensitive-peoples",
      "metadata": {
        "id": "sensitive-peoples"
      },
      "source": [
        "### Simple Preprocessing & Tokenization\n",
        "The first thing to do for any data science task is to clean the data.\n",
        "For NLP, we apply various processing like converting all the words to lower case, trimming spaces, removing punctuations.\n",
        "This is something we will do over here too.\n",
        "\n",
        "Additionally, we can also remove stop words like 'and', 'or', 'is', 'the', 'a', 'an' and convert words to their root forms like 'running' to 'run'."
      ]
    },
    {
      "cell_type": "code",
      "execution_count": 7,
      "id": "informational-power",
      "metadata": {
        "id": "informational-power"
      },
      "outputs": [],
      "source": [
        "review_text = df.reviewText.apply(gensim.utils.simple_preprocess)"
      ]
    },
    {
      "cell_type": "code",
      "execution_count": 8,
      "id": "flush-courtesy",
      "metadata": {
        "colab": {
          "base_uri": "https://localhost:8080/",
          "height": 458
        },
        "id": "flush-courtesy",
        "outputId": "b3043891-82a5-4d17-f8ff-982680e8d4b8"
      },
      "outputs": [
        {
          "output_type": "execute_result",
          "data": {
            "text/plain": [
              "0         [this, came, in, on, time, and, am, veru, happ...\n",
              "1         [had, factory, glock, tool, that, was, using, ...\n",
              "2         [if, you, don, have, punch, or, would, like, t...\n",
              "3         [this, works, no, better, than, any, punch, yo...\n",
              "4         [purchased, this, thinking, maybe, need, speci...\n",
              "                                ...                        \n",
              "296332    [this, is, water, bottle, done, right, it, is,...\n",
              "296333    [if, you, re, looking, for, an, insulated, wat...\n",
              "296334    [this, hydracentials, sporty, oz, double, insu...\n",
              "296335    [as, usual, received, this, item, free, in, ex...\n",
              "296336    [hydracentials, insulated, oz, water, bottle, ...\n",
              "Name: reviewText, Length: 296337, dtype: object"
            ],
            "text/html": [
              "<div>\n",
              "<style scoped>\n",
              "    .dataframe tbody tr th:only-of-type {\n",
              "        vertical-align: middle;\n",
              "    }\n",
              "\n",
              "    .dataframe tbody tr th {\n",
              "        vertical-align: top;\n",
              "    }\n",
              "\n",
              "    .dataframe thead th {\n",
              "        text-align: right;\n",
              "    }\n",
              "</style>\n",
              "<table border=\"1\" class=\"dataframe\">\n",
              "  <thead>\n",
              "    <tr style=\"text-align: right;\">\n",
              "      <th></th>\n",
              "      <th>reviewText</th>\n",
              "    </tr>\n",
              "  </thead>\n",
              "  <tbody>\n",
              "    <tr>\n",
              "      <th>0</th>\n",
              "      <td>[this, came, in, on, time, and, am, veru, happ...</td>\n",
              "    </tr>\n",
              "    <tr>\n",
              "      <th>1</th>\n",
              "      <td>[had, factory, glock, tool, that, was, using, ...</td>\n",
              "    </tr>\n",
              "    <tr>\n",
              "      <th>2</th>\n",
              "      <td>[if, you, don, have, punch, or, would, like, t...</td>\n",
              "    </tr>\n",
              "    <tr>\n",
              "      <th>3</th>\n",
              "      <td>[this, works, no, better, than, any, punch, yo...</td>\n",
              "    </tr>\n",
              "    <tr>\n",
              "      <th>4</th>\n",
              "      <td>[purchased, this, thinking, maybe, need, speci...</td>\n",
              "    </tr>\n",
              "    <tr>\n",
              "      <th>...</th>\n",
              "      <td>...</td>\n",
              "    </tr>\n",
              "    <tr>\n",
              "      <th>296332</th>\n",
              "      <td>[this, is, water, bottle, done, right, it, is,...</td>\n",
              "    </tr>\n",
              "    <tr>\n",
              "      <th>296333</th>\n",
              "      <td>[if, you, re, looking, for, an, insulated, wat...</td>\n",
              "    </tr>\n",
              "    <tr>\n",
              "      <th>296334</th>\n",
              "      <td>[this, hydracentials, sporty, oz, double, insu...</td>\n",
              "    </tr>\n",
              "    <tr>\n",
              "      <th>296335</th>\n",
              "      <td>[as, usual, received, this, item, free, in, ex...</td>\n",
              "    </tr>\n",
              "    <tr>\n",
              "      <th>296336</th>\n",
              "      <td>[hydracentials, insulated, oz, water, bottle, ...</td>\n",
              "    </tr>\n",
              "  </tbody>\n",
              "</table>\n",
              "<p>296337 rows × 1 columns</p>\n",
              "</div><br><label><b>dtype:</b> object</label>"
            ]
          },
          "metadata": {},
          "execution_count": 8
        }
      ],
      "source": [
        "review_text"
      ]
    },
    {
      "cell_type": "code",
      "execution_count": 9,
      "id": "chief-postage",
      "metadata": {
        "colab": {
          "base_uri": "https://localhost:8080/"
        },
        "id": "chief-postage",
        "outputId": "2adfb050-fefd-4584-ac00-13ece4dd1f9a"
      },
      "outputs": [
        {
          "output_type": "execute_result",
          "data": {
            "text/plain": [
              "['this',\n",
              " 'came',\n",
              " 'in',\n",
              " 'on',\n",
              " 'time',\n",
              " 'and',\n",
              " 'am',\n",
              " 'veru',\n",
              " 'happy',\n",
              " 'with',\n",
              " 'it',\n",
              " 'haved',\n",
              " 'used',\n",
              " 'it',\n",
              " 'already',\n",
              " 'and',\n",
              " 'it',\n",
              " 'makes',\n",
              " 'taking',\n",
              " 'out',\n",
              " 'the',\n",
              " 'pins',\n",
              " 'in',\n",
              " 'my',\n",
              " 'glock',\n",
              " 'very',\n",
              " 'easy']"
            ]
          },
          "metadata": {},
          "execution_count": 9
        }
      ],
      "source": [
        "review_text.loc[0]"
      ]
    },
    {
      "cell_type": "code",
      "execution_count": 10,
      "id": "helpful-navigation",
      "metadata": {
        "colab": {
          "base_uri": "https://localhost:8080/",
          "height": 36
        },
        "id": "helpful-navigation",
        "outputId": "63056801-7913-468f-a2e5-536185369529"
      },
      "outputs": [
        {
          "output_type": "execute_result",
          "data": {
            "text/plain": [
              "'This came in on time and I am veru happy with it, I haved used it already and it makes taking out the pins in my glock 32 very easy'"
            ],
            "application/vnd.google.colaboratory.intrinsic+json": {
              "type": "string"
            }
          },
          "metadata": {},
          "execution_count": 10
        }
      ],
      "source": [
        "df.reviewText.loc[0]"
      ]
    },
    {
      "cell_type": "markdown",
      "id": "engaging-yorkshire",
      "metadata": {
        "id": "engaging-yorkshire"
      },
      "source": [
        "### Training the Word2Vec Model\n",
        "\n",
        "Train the model for reviews. Use a window of size 10 i.e. 10 words before the present word and 10 words ahead. A sentence with at least 2 words should only be considered, configure this using min_count parameter.\n",
        "\n",
        "Workers define how many CPU threads to be used."
      ]
    },
    {
      "cell_type": "markdown",
      "id": "civic-links",
      "metadata": {
        "id": "civic-links"
      },
      "source": [
        "#### Initialize the model"
      ]
    },
    {
      "cell_type": "code",
      "execution_count": 11,
      "id": "determined-disclosure",
      "metadata": {
        "id": "determined-disclosure"
      },
      "outputs": [],
      "source": [
        "model = gensim.models.Word2Vec(\n",
        "    window=10,\n",
        "    min_count=2,\n",
        "    workers=4,\n",
        ")\n"
      ]
    },
    {
      "cell_type": "markdown",
      "id": "olympic-manner",
      "metadata": {
        "id": "olympic-manner"
      },
      "source": [
        "#### Build Vocabulary"
      ]
    },
    {
      "cell_type": "code",
      "execution_count": 12,
      "id": "juvenile-dubai",
      "metadata": {
        "id": "juvenile-dubai"
      },
      "outputs": [],
      "source": [
        "model.build_vocab(review_text, progress_per=1000)"
      ]
    },
    {
      "cell_type": "markdown",
      "id": "pharmaceutical-adoption",
      "metadata": {
        "id": "pharmaceutical-adoption"
      },
      "source": [
        "#### Train the Word2Vec Model"
      ]
    },
    {
      "cell_type": "code",
      "execution_count": 13,
      "id": "adopted-kentucky",
      "metadata": {
        "colab": {
          "base_uri": "https://localhost:8080/"
        },
        "id": "adopted-kentucky",
        "outputId": "f369d89f-c590-4bdc-dd41-fc226b950c00"
      },
      "outputs": [
        {
          "output_type": "execute_result",
          "data": {
            "text/plain": [
              "(91337376, 121496535)"
            ]
          },
          "metadata": {},
          "execution_count": 13
        }
      ],
      "source": [
        "model.train(review_text, total_examples=model.corpus_count, epochs=model.epochs)"
      ]
    },
    {
      "cell_type": "markdown",
      "id": "creative-convert",
      "metadata": {
        "id": "creative-convert"
      },
      "source": [
        "### Finding Similar Words and Similarity between words\n",
        "https://radimrehurek.com/gensim/models/word2vec.html"
      ]
    },
    {
      "cell_type": "code",
      "execution_count": 14,
      "id": "legislative-bearing",
      "metadata": {
        "colab": {
          "base_uri": "https://localhost:8080/"
        },
        "id": "legislative-bearing",
        "outputId": "a9fc0b02-1050-40e4-ba14-47c37962a835"
      },
      "outputs": [
        {
          "output_type": "execute_result",
          "data": {
            "text/plain": [
              "[('horrible', 0.6977453827857971),\n",
              " ('ugly', 0.688739538192749),\n",
              " ('terrible', 0.6725580096244812),\n",
              " ('overpowering', 0.6188647747039795),\n",
              " ('horrendous', 0.5743656158447266),\n",
              " ('unusual', 0.5650439262390137),\n",
              " ('anomaly', 0.5612172484397888),\n",
              " ('funny', 0.5515046119689941),\n",
              " ('oreo', 0.5499078035354614),\n",
              " ('authentic', 0.5472955107688904)]"
            ]
          },
          "metadata": {},
          "execution_count": 14
        }
      ],
      "source": [
        "model.wv.most_similar(\"awful\")"
      ]
    },
    {
      "cell_type": "code",
      "execution_count": 15,
      "id": "sacred-mathematics",
      "metadata": {
        "colab": {
          "base_uri": "https://localhost:8080/"
        },
        "id": "sacred-mathematics",
        "outputId": "97663020-a45e-4c40-ed15-50ee3da2687f"
      },
      "outputs": [
        {
          "output_type": "execute_result",
          "data": {
            "text/plain": [
              "0.7826075"
            ]
          },
          "metadata": {},
          "execution_count": 15
        }
      ],
      "source": [
        "model.wv.similarity(w1=\"good\", w2=\"great\")"
      ]
    },
    {
      "cell_type": "code",
      "execution_count": 16,
      "id": "described-smile",
      "metadata": {
        "colab": {
          "base_uri": "https://localhost:8080/"
        },
        "id": "described-smile",
        "outputId": "dcbe9a5a-ad74-420a-b011-9bcb3a1d1344"
      },
      "outputs": [
        {
          "output_type": "execute_result",
          "data": {
            "text/plain": [
              "0.3734824"
            ]
          },
          "metadata": {},
          "execution_count": 16
        }
      ],
      "source": [
        "model.wv.similarity(w1=\"slow\", w2=\"steady\")"
      ]
    }
  ],
  "metadata": {
    "kernelspec": {
      "display_name": "Python 3",
      "language": "python",
      "name": "python3"
    },
    "language_info": {
      "codemirror_mode": {
        "name": "ipython",
        "version": 3
      },
      "file_extension": ".py",
      "mimetype": "text/x-python",
      "name": "python",
      "nbconvert_exporter": "python",
      "pygments_lexer": "ipython3",
      "version": "3.8.5"
    },
    "colab": {
      "provenance": []
    }
  },
  "nbformat": 4,
  "nbformat_minor": 5
}